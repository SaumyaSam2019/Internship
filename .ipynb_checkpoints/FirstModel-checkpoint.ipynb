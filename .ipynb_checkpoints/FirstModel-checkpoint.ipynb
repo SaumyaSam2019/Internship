{
 "cells": [
  {
   "cell_type": "code",
   "execution_count": 1,
   "id": "7baddc5b-794e-4b26-b6c0-fbed412462d2",
   "metadata": {},
   "outputs": [],
   "source": [
    "%matplotlib inline\n",
    "\n",
    "import pandas as pd\n",
    "import numpy as np\n",
    "\n",
    "from sklearn.feature_extraction.text import CountVectorizer\n",
    "from sklearn.feature_extraction.text import TfidfTransformer\n",
    "from sklearn.ensemble import RandomForestClassifier\n",
    "from sklearn.model_selection import train_test_split\n",
    "from sklearn.model_selection import StratifiedKFold, RepeatedKFold\n",
    "from sklearn.model_selection import cross_val_score\n",
    "\n",
    "from sklearn.metrics import make_scorer,matthews_corrcoef\n",
    "from sklearn.model_selection import cross_val_score\n",
    "\n",
    "\n",
    "from sklearn.pipeline import Pipeline\n",
    "\n",
    "RANDOM_SEED = 42"
   ]
  },
  {
   "cell_type": "code",
   "execution_count": 2,
   "id": "35101a68-9f0f-4aab-99d6-64e3fa3e932d",
   "metadata": {},
   "outputs": [],
   "source": [
    "df = pd.read_csv('sample1.csv')"
   ]
  },
  {
   "cell_type": "code",
   "execution_count": 3,
   "id": "ea13a23b-4e5d-4013-9ed0-ea9947ac74a0",
   "metadata": {},
   "outputs": [
    {
     "data": {
      "text/html": [
       "<div>\n",
       "<style scoped>\n",
       "    .dataframe tbody tr th:only-of-type {\n",
       "        vertical-align: middle;\n",
       "    }\n",
       "\n",
       "    .dataframe tbody tr th {\n",
       "        vertical-align: top;\n",
       "    }\n",
       "\n",
       "    .dataframe thead th {\n",
       "        text-align: right;\n",
       "    }\n",
       "</style>\n",
       "<table border=\"1\" class=\"dataframe\">\n",
       "  <thead>\n",
       "    <tr style=\"text-align: right;\">\n",
       "      <th></th>\n",
       "      <th>issue_url</th>\n",
       "      <th>issue_label</th>\n",
       "      <th>issue_created_at</th>\n",
       "      <th>issue_author_association</th>\n",
       "      <th>repository_url</th>\n",
       "      <th>issue_title</th>\n",
       "      <th>issue_body</th>\n",
       "    </tr>\n",
       "  </thead>\n",
       "  <tbody>\n",
       "    <tr>\n",
       "      <th>0</th>\n",
       "      <td>https://api.github.com/repos/deepnight/ldtk/is...</td>\n",
       "      <td>bug</td>\n",
       "      <td>2021-03-10T01:39:16Z</td>\n",
       "      <td>CONTRIBUTOR</td>\n",
       "      <td>https://api.github.com/repos/deepnight/ldtk</td>\n",
       "      <td>__tileSrcRect is null in Entities.ldtk Sample ...</td>\n",
       "      <td>In the Entities example, we there are some `__...</td>\n",
       "    </tr>\n",
       "    <tr>\n",
       "      <th>1</th>\n",
       "      <td>https://api.github.com/repos/sef-global/sef-si...</td>\n",
       "      <td>bug</td>\n",
       "      <td>2021-01-30T13:51:30Z</td>\n",
       "      <td>COLLABORATOR</td>\n",
       "      <td>https://api.github.com/repos/sef-global/sef-site</td>\n",
       "      <td>Update the blog link in the SEF Site</td>\n",
       "      <td>**Describe the bug**\\r\\nUpdate the blog link i...</td>\n",
       "    </tr>\n",
       "    <tr>\n",
       "      <th>2</th>\n",
       "      <td>https://api.github.com/repos/cherry-script/che...</td>\n",
       "      <td>bug</td>\n",
       "      <td>2021-04-07T13:38:24Z</td>\n",
       "      <td>CONTRIBUTOR</td>\n",
       "      <td>https://api.github.com/repos/cherry-script/che...</td>\n",
       "      <td>🐛 Parser cannot properly distinguish between p...</td>\n",
       "      <td>Consider these two expressions:\\r\\n```\\r\\nf (g...</td>\n",
       "    </tr>\n",
       "    <tr>\n",
       "      <th>3</th>\n",
       "      <td>https://api.github.com/repos/IgniteUI/igniteui...</td>\n",
       "      <td>bug</td>\n",
       "      <td>2020-10-16T15:41:48Z</td>\n",
       "      <td>CONTRIBUTOR</td>\n",
       "      <td>https://api.github.com/repos/IgniteUI/igniteui...</td>\n",
       "      <td>\"Row added\" snackbar is not visible if the gri...</td>\n",
       "      <td>## Description  \\r\\nWhen grid has no height an...</td>\n",
       "    </tr>\n",
       "    <tr>\n",
       "      <th>4</th>\n",
       "      <td>https://api.github.com/repos/OpenSIPS/opensips...</td>\n",
       "      <td>bug</td>\n",
       "      <td>2020-09-21T21:22:05Z</td>\n",
       "      <td>NONE</td>\n",
       "      <td>https://api.github.com/repos/OpenSIPS/opensips</td>\n",
       "      <td>[CRASH]  _tcp_write_on_socket crashes when flu...</td>\n",
       "      <td>&lt;!--\\r\\nThank you for reporting a crash in Ope...</td>\n",
       "    </tr>\n",
       "  </tbody>\n",
       "</table>\n",
       "</div>"
      ],
      "text/plain": [
       "                                           issue_url issue_label  \\\n",
       "0  https://api.github.com/repos/deepnight/ldtk/is...         bug   \n",
       "1  https://api.github.com/repos/sef-global/sef-si...         bug   \n",
       "2  https://api.github.com/repos/cherry-script/che...         bug   \n",
       "3  https://api.github.com/repos/IgniteUI/igniteui...         bug   \n",
       "4  https://api.github.com/repos/OpenSIPS/opensips...         bug   \n",
       "\n",
       "       issue_created_at issue_author_association  \\\n",
       "0  2021-03-10T01:39:16Z              CONTRIBUTOR   \n",
       "1  2021-01-30T13:51:30Z             COLLABORATOR   \n",
       "2  2021-04-07T13:38:24Z              CONTRIBUTOR   \n",
       "3  2020-10-16T15:41:48Z              CONTRIBUTOR   \n",
       "4  2020-09-21T21:22:05Z                     NONE   \n",
       "\n",
       "                                      repository_url  \\\n",
       "0        https://api.github.com/repos/deepnight/ldtk   \n",
       "1   https://api.github.com/repos/sef-global/sef-site   \n",
       "2  https://api.github.com/repos/cherry-script/che...   \n",
       "3  https://api.github.com/repos/IgniteUI/igniteui...   \n",
       "4     https://api.github.com/repos/OpenSIPS/opensips   \n",
       "\n",
       "                                         issue_title  \\\n",
       "0  __tileSrcRect is null in Entities.ldtk Sample ...   \n",
       "1               Update the blog link in the SEF Site   \n",
       "2  🐛 Parser cannot properly distinguish between p...   \n",
       "3  \"Row added\" snackbar is not visible if the gri...   \n",
       "4  [CRASH]  _tcp_write_on_socket crashes when flu...   \n",
       "\n",
       "                                          issue_body  \n",
       "0  In the Entities example, we there are some `__...  \n",
       "1  **Describe the bug**\\r\\nUpdate the blog link i...  \n",
       "2  Consider these two expressions:\\r\\n```\\r\\nf (g...  \n",
       "3  ## Description  \\r\\nWhen grid has no height an...  \n",
       "4  <!--\\r\\nThank you for reporting a crash in Ope...  "
      ]
     },
     "execution_count": 3,
     "metadata": {},
     "output_type": "execute_result"
    }
   ],
   "source": [
    "df.head()"
   ]
  },
  {
   "cell_type": "code",
   "execution_count": 4,
   "id": "bf6fd2ed-0844-45ba-89cd-8e13c8d6db1e",
   "metadata": {},
   "outputs": [
    {
     "name": "stdout",
     "output_type": "stream",
     "text": [
      "72289 instances\n"
     ]
    }
   ],
   "source": [
    "print(len(df), 'instances')"
   ]
  },
  {
   "cell_type": "code",
   "execution_count": 5,
   "id": "9c7acfd4-0420-42c9-9738-d24bc0ddd824",
   "metadata": {},
   "outputs": [],
   "source": [
    "df['full_text'] = df['issue_title'] + \"_\" + df['issue_body']"
   ]
  },
  {
   "cell_type": "code",
   "execution_count": 6,
   "id": "9045d717-acf9-4e44-bf61-7c0f8f7b23d9",
   "metadata": {},
   "outputs": [],
   "source": [
    "tmp = df.dropna().groupby('issue_label').apply(lambda x: x.sample(frac=.20)).copy().drop(columns=['issue_label'], axis=1).reset_index()"
   ]
  },
  {
   "cell_type": "code",
   "execution_count": 7,
   "id": "3a22df22-d0d9-49e3-94d2-c1fe6074163d",
   "metadata": {},
   "outputs": [
    {
     "data": {
      "text/html": [
       "<div>\n",
       "<style scoped>\n",
       "    .dataframe tbody tr th:only-of-type {\n",
       "        vertical-align: middle;\n",
       "    }\n",
       "\n",
       "    .dataframe tbody tr th {\n",
       "        vertical-align: top;\n",
       "    }\n",
       "\n",
       "    .dataframe thead th {\n",
       "        text-align: right;\n",
       "    }\n",
       "</style>\n",
       "<table border=\"1\" class=\"dataframe\">\n",
       "  <thead>\n",
       "    <tr style=\"text-align: right;\">\n",
       "      <th></th>\n",
       "      <th>issue_label</th>\n",
       "      <th>level_1</th>\n",
       "      <th>issue_url</th>\n",
       "      <th>issue_created_at</th>\n",
       "      <th>issue_author_association</th>\n",
       "      <th>repository_url</th>\n",
       "      <th>issue_title</th>\n",
       "      <th>issue_body</th>\n",
       "      <th>full_text</th>\n",
       "    </tr>\n",
       "  </thead>\n",
       "  <tbody>\n",
       "    <tr>\n",
       "      <th>0</th>\n",
       "      <td>bug</td>\n",
       "      <td>30476</td>\n",
       "      <td>https://api.github.com/repos/Stargon/arrhythmi...</td>\n",
       "      <td>2021-02-23T19:35:04Z</td>\n",
       "      <td>OWNER</td>\n",
       "      <td>https://api.github.com/repos/Stargon/arrhythmi...</td>\n",
       "      <td>Update Apollo API Client</td>\n",
       "      <td>Need to research and fix apollo client to use ...</td>\n",
       "      <td>Update Apollo API Client _Need to research and...</td>\n",
       "    </tr>\n",
       "    <tr>\n",
       "      <th>1</th>\n",
       "      <td>bug</td>\n",
       "      <td>7698</td>\n",
       "      <td>https://api.github.com/repos/Anuken/Mindustry/...</td>\n",
       "      <td>2021-04-06T21:56:36Z</td>\n",
       "      <td>NONE</td>\n",
       "      <td>https://api.github.com/repos/Anuken/Mindustry</td>\n",
       "      <td>Mindustry has crashed</td>\n",
       "      <td>Mindustry has crashed. How unfortunate.\\r\\nRep...</td>\n",
       "      <td>Mindustry has crashed _Mindustry has crashed. ...</td>\n",
       "    </tr>\n",
       "    <tr>\n",
       "      <th>2</th>\n",
       "      <td>bug</td>\n",
       "      <td>7443</td>\n",
       "      <td>https://api.github.com/repos/sumitra19jha/gats...</td>\n",
       "      <td>2021-04-13T21:28:23Z</td>\n",
       "      <td>OWNER</td>\n",
       "      <td>https://api.github.com/repos/sumitra19jha/gats...</td>\n",
       "      <td>Home Page blog contains HTML tags</td>\n",
       "      <td>**Describe the bug**\\r\\nHome Page blog contain...</td>\n",
       "      <td>Home Page blog contains HTML tags_**Describe t...</td>\n",
       "    </tr>\n",
       "    <tr>\n",
       "      <th>3</th>\n",
       "      <td>bug</td>\n",
       "      <td>32174</td>\n",
       "      <td>https://api.github.com/repos/innovationacademy...</td>\n",
       "      <td>2021-05-27T09:15:55Z</td>\n",
       "      <td>COLLABORATOR</td>\n",
       "      <td>https://api.github.com/repos/innovationacademy...</td>\n",
       "      <td>[Bug report] infinite scroll시 기자 사진이 나타나지 않는 오류</td>\n",
       "      <td>## 발생 일시\\r\\n2021 05 27 (목)\\r\\n## 발생 위치\\r\\n유저 메...</td>\n",
       "      <td>[Bug report] infinite scroll시 기자 사진이 나타나지 않는 오...</td>\n",
       "    </tr>\n",
       "    <tr>\n",
       "      <th>4</th>\n",
       "      <td>bug</td>\n",
       "      <td>7919</td>\n",
       "      <td>https://api.github.com/repos/smartdevicelink/s...</td>\n",
       "      <td>2016-11-07T19:26:42Z</td>\n",
       "      <td>NONE</td>\n",
       "      <td>https://api.github.com/repos/smartdevicelink/s...</td>\n",
       "      <td>[API] SDL sends OnAppInterfaceUnregistered(DRI...</td>\n",
       "      <td>**Occurrence:** \\r\\nAlways\\r\\n\\r\\n**Preconditi...</td>\n",
       "      <td>[API] SDL sends OnAppInterfaceUnregistered(DRI...</td>\n",
       "    </tr>\n",
       "  </tbody>\n",
       "</table>\n",
       "</div>"
      ],
      "text/plain": [
       "  issue_label  level_1                                          issue_url  \\\n",
       "0         bug    30476  https://api.github.com/repos/Stargon/arrhythmi...   \n",
       "1         bug     7698  https://api.github.com/repos/Anuken/Mindustry/...   \n",
       "2         bug     7443  https://api.github.com/repos/sumitra19jha/gats...   \n",
       "3         bug    32174  https://api.github.com/repos/innovationacademy...   \n",
       "4         bug     7919  https://api.github.com/repos/smartdevicelink/s...   \n",
       "\n",
       "       issue_created_at issue_author_association  \\\n",
       "0  2021-02-23T19:35:04Z                    OWNER   \n",
       "1  2021-04-06T21:56:36Z                     NONE   \n",
       "2  2021-04-13T21:28:23Z                    OWNER   \n",
       "3  2021-05-27T09:15:55Z             COLLABORATOR   \n",
       "4  2016-11-07T19:26:42Z                     NONE   \n",
       "\n",
       "                                      repository_url  \\\n",
       "0  https://api.github.com/repos/Stargon/arrhythmi...   \n",
       "1      https://api.github.com/repos/Anuken/Mindustry   \n",
       "2  https://api.github.com/repos/sumitra19jha/gats...   \n",
       "3  https://api.github.com/repos/innovationacademy...   \n",
       "4  https://api.github.com/repos/smartdevicelink/s...   \n",
       "\n",
       "                                         issue_title  \\\n",
       "0                          Update Apollo API Client    \n",
       "1                             Mindustry has crashed    \n",
       "2                  Home Page blog contains HTML tags   \n",
       "3    [Bug report] infinite scroll시 기자 사진이 나타나지 않는 오류   \n",
       "4  [API] SDL sends OnAppInterfaceUnregistered(DRI...   \n",
       "\n",
       "                                          issue_body  \\\n",
       "0  Need to research and fix apollo client to use ...   \n",
       "1  Mindustry has crashed. How unfortunate.\\r\\nRep...   \n",
       "2  **Describe the bug**\\r\\nHome Page blog contain...   \n",
       "3  ## 발생 일시\\r\\n2021 05 27 (목)\\r\\n## 발생 위치\\r\\n유저 메...   \n",
       "4  **Occurrence:** \\r\\nAlways\\r\\n\\r\\n**Preconditi...   \n",
       "\n",
       "                                           full_text  \n",
       "0  Update Apollo API Client _Need to research and...  \n",
       "1  Mindustry has crashed _Mindustry has crashed. ...  \n",
       "2  Home Page blog contains HTML tags_**Describe t...  \n",
       "3  [Bug report] infinite scroll시 기자 사진이 나타나지 않는 오...  \n",
       "4  [API] SDL sends OnAppInterfaceUnregistered(DRI...  "
      ]
     },
     "execution_count": 7,
     "metadata": {},
     "output_type": "execute_result"
    }
   ],
   "source": [
    "tmp.head()"
   ]
  },
  {
   "cell_type": "code",
   "execution_count": 8,
   "id": "934581f2-eacf-4063-ace5-8d53a691297d",
   "metadata": {},
   "outputs": [],
   "source": [
    "X = tmp['full_text'].values\n",
    "y = tmp['issue_label'].values"
   ]
  },
  {
   "cell_type": "code",
   "execution_count": 9,
   "id": "e1539d19",
   "metadata": {},
   "outputs": [
    {
     "name": "stdout",
     "output_type": "stream",
     "text": [
      "['bug' 'bug' 'bug' ... 'question' 'question' 'question']\n"
     ]
    }
   ],
   "source": [
    "print(y)\n",
    "print(X)"
   ]
  },
  {
   "cell_type": "markdown",
   "id": "ed6aa499",
   "metadata": {},
   "source": [
    "print (X)"
   ]
  },
  {
   "cell_type": "code",
   "execution_count": 10,
   "id": "316d0ca3-0c40-489e-8d89-e1af78a808db",
   "metadata": {},
   "outputs": [],
   "source": [
    "mcc_scorer = make_scorer(matthews_corrcoef)\n",
    "\n",
    "cv = StratifiedKFold(shuffle=True, random_state=RANDOM_SEED)\n",
    "\n",
    "pipeline = Pipeline(\n",
    "    [\n",
    "        (\"vect\", CountVectorizer()),\n",
    "        (\"tfidf\", TfidfTransformer()),\n",
    "        (\"clf\", RandomForestClassifier()),\n",
    "    ]\n",
    ")"
   ]
  },
  {
   "cell_type": "code",
   "execution_count": 11,
   "id": "8ab44980",
   "metadata": {},
   "outputs": [],
   "source": [
    "model = pipeline.fit(X,y)"
   ]
  },
  {
   "cell_type": "code",
   "execution_count": 12,
   "id": "12c79915",
   "metadata": {},
   "outputs": [
    {
     "data": {
      "text/plain": [
       "['model1.sav']"
      ]
     },
     "execution_count": 12,
     "metadata": {},
     "output_type": "execute_result"
    }
   ],
   "source": [
    "import joblib\n",
    "joblib.dump(model,'model1.sav')"
   ]
  },
  {
   "cell_type": "code",
   "execution_count": 13,
   "id": "1f421fcb-e510-468f-b8c7-e0598e498286",
   "metadata": {},
   "outputs": [
    {
     "ename": "ValueError",
     "evalue": "'matthews_corrcoef' is not a valid scoring value. Use sorted(sklearn.metrics.SCORERS.keys()) to get valid options.",
     "output_type": "error",
     "traceback": [
      "\u001b[0;31m---------------------------------------------------------------------------\u001b[0m",
      "\u001b[0;31mKeyError\u001b[0m                                  Traceback (most recent call last)",
      "\u001b[0;32m/opt/anaconda3/lib/python3.9/site-packages/sklearn/metrics/_scorer.py\u001b[0m in \u001b[0;36mget_scorer\u001b[0;34m(scoring)\u001b[0m\n\u001b[1;32m    403\u001b[0m         \u001b[0;32mtry\u001b[0m\u001b[0;34m:\u001b[0m\u001b[0;34m\u001b[0m\u001b[0;34m\u001b[0m\u001b[0m\n\u001b[0;32m--> 404\u001b[0;31m             \u001b[0mscorer\u001b[0m \u001b[0;34m=\u001b[0m \u001b[0mSCORERS\u001b[0m\u001b[0;34m[\u001b[0m\u001b[0mscoring\u001b[0m\u001b[0;34m]\u001b[0m\u001b[0;34m\u001b[0m\u001b[0;34m\u001b[0m\u001b[0m\n\u001b[0m\u001b[1;32m    405\u001b[0m         \u001b[0;32mexcept\u001b[0m \u001b[0mKeyError\u001b[0m\u001b[0;34m:\u001b[0m\u001b[0;34m\u001b[0m\u001b[0;34m\u001b[0m\u001b[0m\n",
      "\u001b[0;31mKeyError\u001b[0m: 'matthews_corrcoef'",
      "\nDuring handling of the above exception, another exception occurred:\n",
      "\u001b[0;31mValueError\u001b[0m                                Traceback (most recent call last)",
      "\u001b[0;32m/var/folders/kt/fsxt3jts0n547s7hrvh6vjtm0000gn/T/ipykernel_63030/1431771285.py\u001b[0m in \u001b[0;36m<module>\u001b[0;34m\u001b[0m\n\u001b[0;32m----> 1\u001b[0;31m \u001b[0mmccs\u001b[0m \u001b[0;34m=\u001b[0m \u001b[0mcross_val_score\u001b[0m\u001b[0;34m(\u001b[0m\u001b[0mpipeline\u001b[0m\u001b[0;34m,\u001b[0m \u001b[0mX\u001b[0m\u001b[0;34m,\u001b[0m \u001b[0my\u001b[0m\u001b[0;34m,\u001b[0m \u001b[0mscoring\u001b[0m\u001b[0;34m=\u001b[0m\u001b[0;34m'matthews_corrcoef'\u001b[0m\u001b[0;34m,\u001b[0m \u001b[0mcv\u001b[0m\u001b[0;34m=\u001b[0m\u001b[0mcv\u001b[0m\u001b[0;34m)\u001b[0m\u001b[0;34m\u001b[0m\u001b[0;34m\u001b[0m\u001b[0m\n\u001b[0m\u001b[1;32m      2\u001b[0m \u001b[0;34m\u001b[0m\u001b[0m\n\u001b[1;32m      3\u001b[0m \u001b[0mprint\u001b[0m\u001b[0;34m(\u001b[0m\u001b[0;34m'Average mcc:'\u001b[0m\u001b[0;34m,\u001b[0m \u001b[0mnp\u001b[0m\u001b[0;34m.\u001b[0m\u001b[0mmean\u001b[0m\u001b[0;34m(\u001b[0m\u001b[0mmccs\u001b[0m\u001b[0;34m)\u001b[0m\u001b[0;34m)\u001b[0m\u001b[0;34m\u001b[0m\u001b[0;34m\u001b[0m\u001b[0m\n",
      "\u001b[0;32m/opt/anaconda3/lib/python3.9/site-packages/sklearn/model_selection/_validation.py\u001b[0m in \u001b[0;36mcross_val_score\u001b[0;34m(estimator, X, y, groups, scoring, cv, n_jobs, verbose, fit_params, pre_dispatch, error_score)\u001b[0m\n\u001b[1;32m    505\u001b[0m     \"\"\"\n\u001b[1;32m    506\u001b[0m     \u001b[0;31m# To ensure multimetric format is not supported\u001b[0m\u001b[0;34m\u001b[0m\u001b[0;34m\u001b[0m\u001b[0m\n\u001b[0;32m--> 507\u001b[0;31m     \u001b[0mscorer\u001b[0m \u001b[0;34m=\u001b[0m \u001b[0mcheck_scoring\u001b[0m\u001b[0;34m(\u001b[0m\u001b[0mestimator\u001b[0m\u001b[0;34m,\u001b[0m \u001b[0mscoring\u001b[0m\u001b[0;34m=\u001b[0m\u001b[0mscoring\u001b[0m\u001b[0;34m)\u001b[0m\u001b[0;34m\u001b[0m\u001b[0;34m\u001b[0m\u001b[0m\n\u001b[0m\u001b[1;32m    508\u001b[0m \u001b[0;34m\u001b[0m\u001b[0m\n\u001b[1;32m    509\u001b[0m     cv_results = cross_validate(\n",
      "\u001b[0;32m/opt/anaconda3/lib/python3.9/site-packages/sklearn/metrics/_scorer.py\u001b[0m in \u001b[0;36mcheck_scoring\u001b[0;34m(estimator, scoring, allow_none)\u001b[0m\n\u001b[1;32m    451\u001b[0m         )\n\u001b[1;32m    452\u001b[0m     \u001b[0;32mif\u001b[0m \u001b[0misinstance\u001b[0m\u001b[0;34m(\u001b[0m\u001b[0mscoring\u001b[0m\u001b[0;34m,\u001b[0m \u001b[0mstr\u001b[0m\u001b[0;34m)\u001b[0m\u001b[0;34m:\u001b[0m\u001b[0;34m\u001b[0m\u001b[0;34m\u001b[0m\u001b[0m\n\u001b[0;32m--> 453\u001b[0;31m         \u001b[0;32mreturn\u001b[0m \u001b[0mget_scorer\u001b[0m\u001b[0;34m(\u001b[0m\u001b[0mscoring\u001b[0m\u001b[0;34m)\u001b[0m\u001b[0;34m\u001b[0m\u001b[0;34m\u001b[0m\u001b[0m\n\u001b[0m\u001b[1;32m    454\u001b[0m     \u001b[0;32melif\u001b[0m \u001b[0mcallable\u001b[0m\u001b[0;34m(\u001b[0m\u001b[0mscoring\u001b[0m\u001b[0;34m)\u001b[0m\u001b[0;34m:\u001b[0m\u001b[0;34m\u001b[0m\u001b[0;34m\u001b[0m\u001b[0m\n\u001b[1;32m    455\u001b[0m         \u001b[0;31m# Heuristic to ensure user has not passed a metric\u001b[0m\u001b[0;34m\u001b[0m\u001b[0;34m\u001b[0m\u001b[0m\n",
      "\u001b[0;32m/opt/anaconda3/lib/python3.9/site-packages/sklearn/metrics/_scorer.py\u001b[0m in \u001b[0;36mget_scorer\u001b[0;34m(scoring)\u001b[0m\n\u001b[1;32m    404\u001b[0m             \u001b[0mscorer\u001b[0m \u001b[0;34m=\u001b[0m \u001b[0mSCORERS\u001b[0m\u001b[0;34m[\u001b[0m\u001b[0mscoring\u001b[0m\u001b[0;34m]\u001b[0m\u001b[0;34m\u001b[0m\u001b[0;34m\u001b[0m\u001b[0m\n\u001b[1;32m    405\u001b[0m         \u001b[0;32mexcept\u001b[0m \u001b[0mKeyError\u001b[0m\u001b[0;34m:\u001b[0m\u001b[0;34m\u001b[0m\u001b[0;34m\u001b[0m\u001b[0m\n\u001b[0;32m--> 406\u001b[0;31m             raise ValueError(\n\u001b[0m\u001b[1;32m    407\u001b[0m                 \u001b[0;34m\"%r is not a valid scoring value. \"\u001b[0m\u001b[0;34m\u001b[0m\u001b[0;34m\u001b[0m\u001b[0m\n\u001b[1;32m    408\u001b[0m                 \u001b[0;34m\"Use sorted(sklearn.metrics.SCORERS.keys()) \"\u001b[0m\u001b[0;34m\u001b[0m\u001b[0;34m\u001b[0m\u001b[0m\n",
      "\u001b[0;31mValueError\u001b[0m: 'matthews_corrcoef' is not a valid scoring value. Use sorted(sklearn.metrics.SCORERS.keys()) to get valid options."
     ]
    }
   ],
   "source": [
    "mccs = cross_val_score(pipeline, X, y, scoring=mcc_scorer, cv=cv)\n",
    "\n",
    "print('Average mcc:', np.mean(mccs))"
   ]
  },
  {
   "cell_type": "code",
   "execution_count": null,
   "id": "60f453cf",
   "metadata": {},
   "outputs": [],
   "source": []
  }
 ],
 "metadata": {
  "kernelspec": {
   "display_name": "Python 3 (ipykernel)",
   "language": "python",
   "name": "python3"
  },
  "language_info": {
   "codemirror_mode": {
    "name": "ipython",
    "version": 3
   },
   "file_extension": ".py",
   "mimetype": "text/x-python",
   "name": "python",
   "nbconvert_exporter": "python",
   "pygments_lexer": "ipython3",
   "version": "3.9.13"
  },
  "vscode": {
   "interpreter": {
    "hash": "4c55e1b1e9d26a209a84ef78ceb1e639867002ffcee9a21eb960d6faf1ffa97a"
   }
  }
 },
 "nbformat": 4,
 "nbformat_minor": 5
}
