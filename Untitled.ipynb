{
 "cells": [
  {
   "cell_type": "code",
   "execution_count": null,
   "id": "79eeb4f2",
   "metadata": {},
   "outputs": [],
   "source": [
    "import requests\n",
    "\n",
    "access_token = 'your_personal_access_token'\n",
    "\n",
    "# Set the GitLab API URL\n",
    "base_url = 'https://gitlab.com/api/v4/'\n",
    "\n",
    "# API endpoint to list projects\n",
    "endpoint = 'projects'\n",
    "\n",
    "# Make the API request\n",
    "response = requests.get(f'{base_url}{endpoint}', headers={'Private-Token': access_token})\n",
    "\n",
    "# Check for a successful response (HTTP status code 200)\n",
    "if response.status_code == 200:\n",
    "    projects = response.json()\n",
    "    for project in projects:\n",
    "        print(project['name'])\n",
    "else:\n",
    "    print(f\"Request failed with status code: {response.status_code}\")\n"
   ]
  }
 ],
 "metadata": {
  "kernelspec": {
   "display_name": "Python 3 (ipykernel)",
   "language": "python",
   "name": "python3"
  },
  "language_info": {
   "codemirror_mode": {
    "name": "ipython",
    "version": 3
   },
   "file_extension": ".py",
   "mimetype": "text/x-python",
   "name": "python",
   "nbconvert_exporter": "python",
   "pygments_lexer": "ipython3",
   "version": "3.9.13"
  }
 },
 "nbformat": 4,
 "nbformat_minor": 5
}
